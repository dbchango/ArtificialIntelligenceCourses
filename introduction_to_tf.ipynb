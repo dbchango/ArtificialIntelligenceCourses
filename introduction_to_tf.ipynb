{
  "nbformat": 4,
  "nbformat_minor": 0,
  "metadata": {
    "colab": {
      "name": "introduction_to_tf.ipynb",
      "provenance": [],
      "authorship_tag": "ABX9TyMbja3tt17eKKOpDIs0q7z/",
      "include_colab_link": true
    },
    "kernelspec": {
      "name": "python3",
      "display_name": "Python 3"
    },
    "language_info": {
      "name": "python"
    }
  },
  "cells": [
    {
      "cell_type": "markdown",
      "metadata": {
        "id": "view-in-github",
        "colab_type": "text"
      },
      "source": [
        "<a href=\"https://colab.research.google.com/github/dbchango/ArtificialIntelligenceCourses/blob/main/introduction_to_tf.ipynb\" target=\"_parent\"><img src=\"https://colab.research.google.com/assets/colab-badge.svg\" alt=\"Open In Colab\"/></a>"
      ]
    },
    {
      "cell_type": "code",
      "execution_count": null,
      "metadata": {
        "id": "h0XYeD40nB86"
      },
      "outputs": [],
      "source": [
        ""
      ]
    }
  ]
}